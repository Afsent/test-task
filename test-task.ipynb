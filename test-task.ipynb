{
 "cells": [
  {
   "cell_type": "markdown",
   "metadata": {},
   "source": [
    "# 1. Написать функцию на Python\n",
    "\n",
    "Напиши функцию, которая удалит дубликаты в списке. Список не отсортирован. Необходимо сохранить порядок сортировки оригинального списка.\n",
    "\n",
    "Примеры:\n",
    "\n",
    "[1, 2, 3, 1] → [1, 2, 3]\n",
    "\n",
    "[1, 3, 2, 1, 5, 3, 5, 1, 4] → [1, 3, 2, 5, 4]\n",
    "\n",
    "Какая асимптотическая сложность у этой функций?\n",
    "\n",
    "Если задание покажется слишком простым, можешь дополнительно написать юнит тест или doctest.\n"
   ]
  },
  {
   "cell_type": "code",
   "execution_count": 18,
   "metadata": {},
   "outputs": [],
   "source": [
    "def remove_duplicates(lst):\n",
    "    result = []\n",
    "    for item in lst:\n",
    "        if item not in result:\n",
    "            result.append(item)\n",
    "    return result"
   ]
  },
  {
   "cell_type": "markdown",
   "metadata": {},
   "source": [
    "Асимптотическая сложность у этой функции O(n), так как весь список мы проходим только один раз."
   ]
  },
  {
   "cell_type": "code",
   "execution_count": 19,
   "metadata": {},
   "outputs": [
    {
     "name": "stderr",
     "output_type": "stream",
     "text": [
      ".....\n",
      "----------------------------------------------------------------------\n",
      "Ran 5 tests in 0.003s\n",
      "\n",
      "OK\n"
     ]
    },
    {
     "data": {
      "text/plain": [
       "<unittest.main.TestProgram at 0x1d773aed7f0>"
      ]
     },
     "execution_count": 19,
     "metadata": {},
     "output_type": "execute_result"
    }
   ],
   "source": [
    "import unittest\n",
    "\n",
    "class RemoveDuplicatesTest(unittest.TestCase):\n",
    "    def test_empty_list(self):\n",
    "        self.assertEqual(remove_duplicates([]), [])  \n",
    "\n",
    "    def test_one_element_list(self):\n",
    "        self.assertEqual(remove_duplicates([1]), [1])  \n",
    "    \n",
    "    def test_identical_elements(self):\n",
    "        self.assertEqual(remove_duplicates([0, 0, 0]), [0])  \n",
    "\n",
    "    def test_example1(self):\n",
    "        input_list = [1, 2, 3, 1]\n",
    "        result = [1, 2, 3]\n",
    "        self.assertEqual(remove_duplicates(input_list), result)\n",
    "\n",
    "    def test_example2(self):\n",
    "        input_list = [1, 3, 2, 1, 5, 3, 5, 1, 4]\n",
    "        result = [1, 3, 2, 5, 4]\n",
    "        self.assertEqual(remove_duplicates(input_list), result)\n",
    "\n",
    "\n",
    "unittest.main(argv=[''], exit=False)"
   ]
  },
  {
   "cell_type": "markdown",
   "metadata": {},
   "source": [
    "---"
   ]
  },
  {
   "cell_type": "markdown",
   "metadata": {},
   "source": [
    "# 2. Написать SQL запрос\n",
    "Дана таблица employees всех сотрудников компании. Поля:\n",
    "\n",
    "full_name TEXT (PK),\n",
    "position TEXT,\n",
    "department TEXT.\n",
    "Напиши запрос, выводящий все отделы, в которых меньше 5 разработчиков (position = 'Software Developer')."
   ]
  },
  {
   "cell_type": "markdown",
   "metadata": {},
   "source": [
    "```\n",
    "SELECT department\n",
    "FROM ( SELECT count(full_name) AS cnt, department\n",
    "\t\t\tFROM empoyees \n",
    "\t\t\tWHERE position = 'Software Developer'\n",
    "\t\t\tGROUP BY department) \n",
    "WHERE cnt < 5\n",
    "```"
   ]
  },
  {
   "cell_type": "markdown",
   "metadata": {},
   "source": [
    "Недостаток запроса в том, что если разработчиков нет в отедел, то такой отдел не выведется. \n",
    "\n",
    "Для решения данной проблемы написан следующий запрос:"
   ]
  },
  {
   "cell_type": "markdown",
   "metadata": {},
   "source": [
    "```\n",
    "SELECT DISTINCT department\n",
    "FROM employees\n",
    "WHERE department NOT IN(\n",
    "    SELECT department\n",
    "    FROM employees\n",
    "    WHERE position = 'Software developer'\n",
    "    GROUP BY department\n",
    "    HAVING COUNT(*) >= 5\n",
    ")\n",
    "```"
   ]
  },
  {
   "cell_type": "markdown",
   "metadata": {},
   "source": [
    "---"
   ]
  },
  {
   "cell_type": "markdown",
   "metadata": {},
   "source": [
    "# 3. Решить задачу\n",
    "Подкинули монету N раз. Кол-во случаев, когда выпал орёл, на 10% больше, чем кол-во случаев, когда выпала решка. При каком N мы можем сказать, что монета «нечестная» (орёл и решка выпадают с разной вероятностью)?"
   ]
  },
  {
   "cell_type": "markdown",
   "metadata": {},
   "source": [
    "Воспользуемся биномиальным тестом для определения статистической значимости отклонений от теоретически ожидаемого распределения наблюдений на две категории.\n",
    "\n",
    "Пусть х - орел, у - решка. По условию х = 1.1 * у, тогда N = x + y = 2.1 * y\n",
    "\n",
    "Так как мы работаем с натуральными числами, то у должен быть кратен 10, а N кратен 21."
   ]
  },
  {
   "cell_type": "code",
   "execution_count": 27,
   "metadata": {},
   "outputs": [
    {
     "name": "stdout",
     "output_type": "stream",
     "text": [
      "N = 1764\n"
     ]
    }
   ],
   "source": [
    "from scipy import stats\n",
    "\n",
    "p_value = 1\n",
    "num = 1\n",
    "while p_value > 0.05:\n",
    "    p_value = stats.binom_test(num*10, num*21, p=0.5) \n",
    "    num += 1\n",
    "print(f'N = {num * 21}')"
   ]
  }
 ],
 "metadata": {
  "kernelspec": {
   "display_name": "Python 3",
   "language": "python",
   "name": "python3"
  },
  "language_info": {
   "codemirror_mode": {
    "name": "ipython",
    "version": 3
   },
   "file_extension": ".py",
   "mimetype": "text/x-python",
   "name": "python",
   "nbconvert_exporter": "python",
   "pygments_lexer": "ipython3",
   "version": "3.7.3"
  }
 },
 "nbformat": 4,
 "nbformat_minor": 2
}
